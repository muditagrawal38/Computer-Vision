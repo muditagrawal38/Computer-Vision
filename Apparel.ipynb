{
 "cells": [
  {
   "cell_type": "code",
   "execution_count": 11,
   "metadata": {},
   "outputs": [
    {
     "data": {
      "text/plain": [
       "7"
      ]
     },
     "execution_count": 11,
     "metadata": {},
     "output_type": "execute_result"
    }
   ],
   "source": [
    "import cv2\n",
    "import gc\n",
    "import os,sys, os.path\n",
    "from os import listdir\n",
    "import numpy as np\n",
    "import pandas as pd\n",
    "import glob\n",
    "import natsort\n",
    "from PIL import Image\n",
    "from pathlib import Path\n",
    "import matplotlib.pyplot as plt\n",
    "from matplotlib import image\n",
    "gc.collect()"
   ]
  },
  {
   "cell_type": "code",
   "execution_count": 2,
   "metadata": {},
   "outputs": [],
   "source": [
    "labels_path = Path(\"train_apparel/train.csv\")\n",
    "labels = []\n",
    "lines = labels_path.read_text().strip().splitlines()[1:]"
   ]
  },
  {
   "cell_type": "code",
   "execution_count": 3,
   "metadata": {},
   "outputs": [],
   "source": [
    "for line in lines:\n",
    "    line = line.split(',')\n",
    "    line = [x.strip(' \\n\\t\\r') for x in line]\n",
    "    line[0], line[1] = int(line[0]), int(line[1])\n",
    "    line = tuple(line)\n",
    "    labels.append(line[1])"
   ]
  },
  {
   "cell_type": "code",
   "execution_count": 4,
   "metadata": {},
   "outputs": [
    {
     "data": {
      "text/plain": [
       "[9, 0, 0, 3, 0]"
      ]
     },
     "execution_count": 4,
     "metadata": {},
     "output_type": "execute_result"
    }
   ],
   "source": [
    "labels[:5]"
   ]
  },
  {
   "cell_type": "code",
   "execution_count": 5,
   "metadata": {},
   "outputs": [],
   "source": [
    "# label_dict = {0 :'T-shirt/top', 1:'Trouser', 2 :'Pullover', 3 :'Dress', 4 :'Coat', 5 :'Sandal', \n",
    "#               6 :'Shirt', 7:'Sneaker', 8 :'Bag', 9 :'Ankle boot'}"
   ]
  },
  {
   "cell_type": "code",
   "execution_count": 6,
   "metadata": {},
   "outputs": [],
   "source": [
    "train_images = []\n",
    "for img in natsort.natsorted(os.listdir(\"train_apparel/train/\")):\n",
    "    train_images.append(img)"
   ]
  },
  {
   "cell_type": "code",
   "execution_count": 7,
   "metadata": {},
   "outputs": [],
   "source": [
    "test_images = []\n",
    "for img in natsort.natsorted(os.listdir(\"test_apparel/test/\")):\n",
    "    test_images.append(img)"
   ]
  },
  {
   "cell_type": "markdown",
   "metadata": {},
   "source": [
    "### Checking if any image is corrupted"
   ]
  },
  {
   "cell_type": "code",
   "execution_count": 8,
   "metadata": {},
   "outputs": [],
   "source": [
    "# for file in train_images:\n",
    "#     try:\n",
    "#         img = Image.open(\"train_apparel/train/\" +file)\n",
    "#         img.verify()\n",
    "#     except (IOError, SyntaxError) as e:\n",
    "#         print('Bad file:', file)   "
   ]
  },
  {
   "cell_type": "markdown",
   "metadata": {},
   "source": [
    "### Converting image from png to array"
   ]
  },
  {
   "cell_type": "code",
   "execution_count": 9,
   "metadata": {},
   "outputs": [],
   "source": [
    "train_data = []\n",
    "for i in train_images:\n",
    "    ima1 = image.imread(\"train_apparel/train/\" + i)\n",
    "    train_data.append(ima1[:,:,0:3])"
   ]
  },
  {
   "cell_type": "code",
   "execution_count": 10,
   "metadata": {},
   "outputs": [
    {
     "ename": "MemoryError",
     "evalue": "",
     "output_type": "error",
     "traceback": [
      "\u001b[1;31m---------------------------------------------------------------------------\u001b[0m",
      "\u001b[1;31mMemoryError\u001b[0m                               Traceback (most recent call last)",
      "\u001b[1;32m<ipython-input-10-2de71ac70b28>\u001b[0m in \u001b[0;36m<module>\u001b[1;34m()\u001b[0m\n\u001b[1;32m----> 1\u001b[1;33m \u001b[0mtrain_data\u001b[0m \u001b[1;33m=\u001b[0m \u001b[0mnp\u001b[0m\u001b[1;33m.\u001b[0m\u001b[0marray\u001b[0m\u001b[1;33m(\u001b[0m\u001b[0mtrain_data\u001b[0m\u001b[1;33m)\u001b[0m\u001b[1;33m\u001b[0m\u001b[0m\n\u001b[0m",
      "\u001b[1;31mMemoryError\u001b[0m: "
     ]
    }
   ],
   "source": [
    "train_data = np.array(train_data)"
   ]
  },
  {
   "cell_type": "code",
   "execution_count": null,
   "metadata": {},
   "outputs": [],
   "source": [
    "test_data = []\n",
    "for i in test_images:\n",
    "    ima1 = image.imread(\"test_apparel/test/\" + i)\n",
    "    test_data.append(ima1[:,:,0:3])"
   ]
  },
  {
   "cell_type": "code",
   "execution_count": null,
   "metadata": {},
   "outputs": [],
   "source": [
    "test_data = np.array(test_data)"
   ]
  },
  {
   "cell_type": "markdown",
   "metadata": {},
   "source": [
    "### CNN"
   ]
  },
  {
   "cell_type": "code",
   "execution_count": null,
   "metadata": {},
   "outputs": [],
   "source": [
    "import keras\n",
    "from keras import backend as K\n",
    "from keras.models import Sequential\n",
    "from keras.layers import Dense, Dropout, Flatten\n",
    "from keras.layers import Conv2D, MaxPooling2D, Activation\n",
    "from keras.utils import np_utils\n",
    "from keras.preprocessing import sequence"
   ]
  },
  {
   "cell_type": "code",
   "execution_count": null,
   "metadata": {},
   "outputs": [],
   "source": [
    "y_train = np_utils.to_categorical(labels, 10) "
   ]
  },
  {
   "cell_type": "code",
   "execution_count": 33,
   "metadata": {},
   "outputs": [],
   "source": [
    "model = Sequential()\n",
    "model.add(Conv2D(128, kernel_size=(3, 3),activation='relu',data_format= \"channels_last\",input_shape= (28,28,3)))\n",
    "model.add(MaxPooling2D(pool_size=(2,2)))\n",
    "# model.add(Dropout(0.25))\n",
    "model.add(Conv2D(64, kernel_size=(3, 3),activation='relu'))\n",
    "model.add(MaxPooling2D(pool_size=(2,2)))\n",
    "# model.add(Dropout(0.25))\n",
    "model.add(Flatten())\n",
    "model.add(Dense(500, activation='relu'))\n",
    "# model.add(Dropout(0.5))\n",
    "model.add(Dense(10, activation='softmax'))\n",
    "model.compile(loss='categorical_crossentropy', optimizer= 'adam', metrics= ['accuracy'])"
   ]
  },
  {
   "cell_type": "code",
   "execution_count": 34,
   "metadata": {},
   "outputs": [
    {
     "name": "stdout",
     "output_type": "stream",
     "text": [
      "_________________________________________________________________\n",
      "Layer (type)                 Output Shape              Param #   \n",
      "=================================================================\n",
      "conv2d_5 (Conv2D)            (None, 26, 26, 128)       3584      \n",
      "_________________________________________________________________\n",
      "max_pooling2d_5 (MaxPooling2 (None, 13, 13, 128)       0         \n",
      "_________________________________________________________________\n",
      "conv2d_6 (Conv2D)            (None, 11, 11, 64)        73792     \n",
      "_________________________________________________________________\n",
      "max_pooling2d_6 (MaxPooling2 (None, 5, 5, 64)          0         \n",
      "_________________________________________________________________\n",
      "flatten_3 (Flatten)          (None, 1600)              0         \n",
      "_________________________________________________________________\n",
      "dense_5 (Dense)              (None, 500)               800500    \n",
      "_________________________________________________________________\n",
      "dense_6 (Dense)              (None, 10)                5010      \n",
      "=================================================================\n",
      "Total params: 882,886\n",
      "Trainable params: 882,886\n",
      "Non-trainable params: 0\n",
      "_________________________________________________________________\n"
     ]
    }
   ],
   "source": [
    "model.summary()"
   ]
  },
  {
   "cell_type": "code",
   "execution_count": 38,
   "metadata": {},
   "outputs": [
    {
     "name": "stdout",
     "output_type": "stream",
     "text": [
      "Train on 51000 samples, validate on 9000 samples\n",
      "Epoch 1/40\n",
      "51000/51000 [==============================] - 63s 1ms/step - loss: 0.0648 - acc: 0.9769 - val_loss: 0.3274 - val_acc: 0.9086\n",
      "Epoch 2/40\n",
      "51000/51000 [==============================] - 60s 1ms/step - loss: 0.0654 - acc: 0.9771 - val_loss: 0.3110 - val_acc: 0.9097\n",
      "Epoch 3/40\n",
      "51000/51000 [==============================] - 62s 1ms/step - loss: 0.0576 - acc: 0.9796 - val_loss: 0.3024 - val_acc: 0.9186\n",
      "Epoch 4/40\n",
      "51000/51000 [==============================] - 61s 1ms/step - loss: 0.0468 - acc: 0.9837 - val_loss: 0.3329 - val_acc: 0.9097\n",
      "Epoch 5/40\n",
      "51000/51000 [==============================] - 60s 1ms/step - loss: 0.0432 - acc: 0.9857 - val_loss: 0.3397 - val_acc: 0.9127\n",
      "Epoch 6/40\n",
      "51000/51000 [==============================] - 59s 1ms/step - loss: 0.0376 - acc: 0.9869 - val_loss: 0.3449 - val_acc: 0.9152\n",
      "Epoch 7/40\n",
      "51000/51000 [==============================] - 62s 1ms/step - loss: 0.0350 - acc: 0.9879 - val_loss: 0.3629 - val_acc: 0.9076\n",
      "Epoch 8/40\n",
      "51000/51000 [==============================] - 63s 1ms/step - loss: 0.0302 - acc: 0.9900 - val_loss: 0.3878 - val_acc: 0.9097\n",
      "Epoch 9/40\n",
      "51000/51000 [==============================] - 61s 1ms/step - loss: 0.0332 - acc: 0.9889 - val_loss: 0.3874 - val_acc: 0.9101\n",
      "Epoch 10/40\n",
      "51000/51000 [==============================] - 61s 1ms/step - loss: 0.0244 - acc: 0.9923 - val_loss: 0.4002 - val_acc: 0.9107\n",
      "Epoch 11/40\n",
      "51000/51000 [==============================] - 63s 1ms/step - loss: 0.0263 - acc: 0.9911 - val_loss: 0.4057 - val_acc: 0.9124\n",
      "Epoch 12/40\n",
      "51000/51000 [==============================] - 62s 1ms/step - loss: 0.0285 - acc: 0.9906 - val_loss: 0.4037 - val_acc: 0.9140\n",
      "Epoch 13/40\n",
      "51000/51000 [==============================] - 61s 1ms/step - loss: 0.0194 - acc: 0.9940 - val_loss: 0.4036 - val_acc: 0.9170\n",
      "Epoch 14/40\n",
      "51000/51000 [==============================] - 60s 1ms/step - loss: 0.0154 - acc: 0.9950 - val_loss: 0.4291 - val_acc: 0.9154\n",
      "Epoch 15/40\n",
      "51000/51000 [==============================] - 60s 1ms/step - loss: 0.0153 - acc: 0.9953 - val_loss: 0.4376 - val_acc: 0.9139\n",
      "Epoch 16/40\n",
      "51000/51000 [==============================] - 61s 1ms/step - loss: 0.0156 - acc: 0.9950 - val_loss: 0.4362 - val_acc: 0.9150\n",
      "Epoch 17/40\n",
      "51000/51000 [==============================] - 63s 1ms/step - loss: 0.0154 - acc: 0.9952 - val_loss: 0.4562 - val_acc: 0.9132\n",
      "Epoch 18/40\n",
      "51000/51000 [==============================] - 64s 1ms/step - loss: 0.0170 - acc: 0.9941 - val_loss: 0.4699 - val_acc: 0.9130\n",
      "Epoch 19/40\n",
      "51000/51000 [==============================] - 64s 1ms/step - loss: 0.0103 - acc: 0.9973 - val_loss: 0.4558 - val_acc: 0.9167\n",
      "Epoch 20/40\n",
      "51000/51000 [==============================] - 63s 1ms/step - loss: 0.0076 - acc: 0.9981 - val_loss: 0.4784 - val_acc: 0.9147\n",
      "Epoch 21/40\n",
      "51000/51000 [==============================] - 61s 1ms/step - loss: 0.0145 - acc: 0.9954 - val_loss: 0.4865 - val_acc: 0.9113\n",
      "Epoch 22/40\n",
      "51000/51000 [==============================] - 62s 1ms/step - loss: 0.0275 - acc: 0.9903 - val_loss: 0.4865 - val_acc: 0.9099\n",
      "Epoch 23/40\n",
      "51000/51000 [==============================] - 64s 1ms/step - loss: 0.0184 - acc: 0.9938 - val_loss: 0.4748 - val_acc: 0.9106\n",
      "Epoch 24/40\n",
      "51000/51000 [==============================] - 64s 1ms/step - loss: 0.0114 - acc: 0.9964 - val_loss: 0.5057 - val_acc: 0.9079\n",
      "Epoch 25/40\n",
      "51000/51000 [==============================] - 63s 1ms/step - loss: 0.0062 - acc: 0.9981 - val_loss: 0.4842 - val_acc: 0.9152\n",
      "Epoch 26/40\n",
      "51000/51000 [==============================] - 59s 1ms/step - loss: 0.0055 - acc: 0.9984 - val_loss: 0.5022 - val_acc: 0.9163\n",
      "Epoch 27/40\n",
      "51000/51000 [==============================] - 62s 1ms/step - loss: 0.0097 - acc: 0.9969 - val_loss: 0.5181 - val_acc: 0.9129\n",
      "Epoch 28/40\n",
      "51000/51000 [==============================] - 59s 1ms/step - loss: 0.0091 - acc: 0.9972 - val_loss: 0.5243 - val_acc: 0.9149\n",
      "Epoch 29/40\n",
      "51000/51000 [==============================] - 59s 1ms/step - loss: 0.0173 - acc: 0.9946 - val_loss: 0.5102 - val_acc: 0.9078\n",
      "Epoch 30/40\n",
      "51000/51000 [==============================] - 59s 1ms/step - loss: 0.0203 - acc: 0.9933 - val_loss: 0.5121 - val_acc: 0.9072\n",
      "Epoch 31/40\n",
      "51000/51000 [==============================] - 59s 1ms/step - loss: 0.0197 - acc: 0.9935 - val_loss: 0.4968 - val_acc: 0.9061\n",
      "Epoch 32/40\n",
      "51000/51000 [==============================] - 59s 1ms/step - loss: 0.0154 - acc: 0.9952 - val_loss: 0.5076 - val_acc: 0.9161\n",
      "Epoch 33/40\n",
      "51000/51000 [==============================] - 59s 1ms/step - loss: 0.0054 - acc: 0.9986 - val_loss: 0.5036 - val_acc: 0.9154\n",
      "Epoch 34/40\n",
      "51000/51000 [==============================] - 59s 1ms/step - loss: 0.0013 - acc: 0.9998 - val_loss: 0.5232 - val_acc: 0.9174\n",
      "Epoch 35/40\n",
      "51000/51000 [==============================] - 60s 1ms/step - loss: 4.2628e-04 - acc: 1.0000 - val_loss: 0.5270 - val_acc: 0.9210\n",
      "Epoch 36/40\n",
      "51000/51000 [==============================] - 59s 1ms/step - loss: 2.3219e-04 - acc: 1.0000 - val_loss: 0.5353 - val_acc: 0.9202\n",
      "Epoch 37/40\n",
      "51000/51000 [==============================] - 59s 1ms/step - loss: 1.8791e-04 - acc: 1.0000 - val_loss: 0.5413 - val_acc: 0.9199\n",
      "Epoch 38/40\n",
      "51000/51000 [==============================] - 59s 1ms/step - loss: 1.6115e-04 - acc: 1.0000 - val_loss: 0.5443 - val_acc: 0.9193\n",
      "Epoch 39/40\n",
      "51000/51000 [==============================] - 59s 1ms/step - loss: 1.4658e-04 - acc: 1.0000 - val_loss: 0.5490 - val_acc: 0.9206\n",
      "Epoch 40/40\n",
      "51000/51000 [==============================] - 59s 1ms/step - loss: 1.2862e-04 - acc: 1.0000 - val_loss: 0.5528 - val_acc: 0.9194\n"
     ]
    },
    {
     "data": {
      "text/plain": [
       "<keras.callbacks.History at 0x251c0dd2400>"
      ]
     },
     "execution_count": 38,
     "metadata": {},
     "output_type": "execute_result"
    }
   ],
   "source": [
    "model.fit(train_data, y_train, epochs = 40, batch_size= 500,  verbose=1,  validation_split=0.15)"
   ]
  },
  {
   "cell_type": "code",
   "execution_count": 39,
   "metadata": {},
   "outputs": [],
   "source": [
    "y_predict = model.predict_classes(test_data)"
   ]
  },
  {
   "cell_type": "code",
   "execution_count": 40,
   "metadata": {},
   "outputs": [
    {
     "data": {
      "text/plain": [
       "array([9, 2, 1, ..., 8, 1, 5], dtype=int64)"
      ]
     },
     "execution_count": 40,
     "metadata": {},
     "output_type": "execute_result"
    }
   ],
   "source": [
    "y_predict"
   ]
  },
  {
   "cell_type": "code",
   "execution_count": 41,
   "metadata": {},
   "outputs": [],
   "source": [
    "test_csv = pd.read_csv('test_apparel/test.csv')"
   ]
  },
  {
   "cell_type": "code",
   "execution_count": 42,
   "metadata": {},
   "outputs": [],
   "source": [
    "test_csv['label']  = y_predict"
   ]
  },
  {
   "cell_type": "code",
   "execution_count": 43,
   "metadata": {},
   "outputs": [],
   "source": [
    "test_csv.to_csv('final_submission.csv')"
   ]
  }
 ],
 "metadata": {
  "kernelspec": {
   "display_name": "Python 3",
   "language": "python",
   "name": "python3"
  },
  "language_info": {
   "codemirror_mode": {
    "name": "ipython",
    "version": 3
   },
   "file_extension": ".py",
   "mimetype": "text/x-python",
   "name": "python",
   "nbconvert_exporter": "python",
   "pygments_lexer": "ipython3",
   "version": "3.6.5"
  }
 },
 "nbformat": 4,
 "nbformat_minor": 2
}
